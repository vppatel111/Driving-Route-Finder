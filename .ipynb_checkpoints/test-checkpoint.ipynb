{
 "cells": [
  {
   "cell_type": "code",
   "execution_count": 179,
   "metadata": {
    "collapsed": false
   },
   "outputs": [],
   "source": [
    "numWords = 1\n",
    "numPatterns = 1\n",
    "words = [\"wow\", \"wowzers\", \"pls\"]\n",
    "matchingDict = [\"w?w\"]\n",
    "matching = []"
   ]
  },
  {
   "cell_type": "code",
   "execution_count": null,
   "metadata": {
    "collapsed": true
   },
   "outputs": [],
   "source": []
  },
  {
   "cell_type": "code",
   "execution_count": 180,
   "metadata": {
    "collapsed": false
   },
   "outputs": [
    {
     "name": "stdout",
     "output_type": "stream",
     "text": [
      "w ?\n",
      "o ?\n",
      "w ?\n",
      "p ?\n",
      "l ?\n",
      "s ?\n",
      "['wow', 'pls']\n"
     ]
    }
   ],
   "source": [
    "for match in matchingDict:\n",
    "    for word in words:\n",
    "        counter = 0\n",
    "        \n",
    "        if len(word) == len(match):\n",
    "            \n",
    "            matching.append(word)\n",
    "            \n",
    "            for letter in word:\n",
    "                print(letter, match[counter])\n",
    "                if match[counter] == \"?\":\n",
    "                    continue\n",
    "                if letter != match[counter]:\n",
    "                    matching.pop()\n",
    "                    break\n",
    "                counter += 1\n",
    "            \n",
    "    print(matching)\n",
    "    matching = []"
   ]
  },
  {
   "cell_type": "code",
   "execution_count": null,
   "metadata": {
    "collapsed": false
   },
   "outputs": [],
   "source": []
  },
  {
   "cell_type": "code",
   "execution_count": null,
   "metadata": {
    "collapsed": false
   },
   "outputs": [],
   "source": []
  },
  {
   "cell_type": "code",
   "execution_count": null,
   "metadata": {
    "collapsed": false
   },
   "outputs": [],
   "source": []
  },
  {
   "cell_type": "code",
   "execution_count": null,
   "metadata": {
    "collapsed": false
   },
   "outputs": [],
   "source": []
  },
  {
   "cell_type": "code",
   "execution_count": null,
   "metadata": {
    "collapsed": true
   },
   "outputs": [],
   "source": []
  }
 ],
 "metadata": {
  "kernelspec": {
   "display_name": "Python 3",
   "language": "python",
   "name": "python3"
  },
  "language_info": {
   "codemirror_mode": {
    "name": "ipython",
    "version": 3
   },
   "file_extension": ".py",
   "mimetype": "text/x-python",
   "name": "python",
   "nbconvert_exporter": "python",
   "pygments_lexer": "ipython3",
   "version": "3.5.2"
  }
 },
 "nbformat": 4,
 "nbformat_minor": 2
}
