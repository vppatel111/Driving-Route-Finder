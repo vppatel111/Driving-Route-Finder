{
 "cells": [
  {
   "cell_type": "code",
   "execution_count": 166,
   "metadata": {
    "collapsed": false
   },
   "outputs": [],
   "source": [
    "import operator\n",
    "\n",
    "dict = {1: (1, 3), 2: (3, 9), 3:(20, 15)}\n",
    "vertex = (4, 10)"
   ]
  },
  {
   "cell_type": "code",
   "execution_count": 167,
   "metadata": {
    "collapsed": false
   },
   "outputs": [],
   "source": [
    "def pathDist(v, u):\n",
    "    print(v, u)\n",
    "    return((v[1]-u[1])*(v[1]-u[1])+(v[0]-u[0])*(v[0]-u[0]))"
   ]
  },
  {
   "cell_type": "code",
   "execution_count": 168,
   "metadata": {
    "collapsed": false
   },
   "outputs": [
    {
     "name": "stdout",
     "output_type": "stream",
     "text": [
      "(1, 3) (4, 10)\n",
      "(3, 9) (4, 10)\n",
      "(20, 15) (4, 10)\n",
      "2\n"
     ]
    }
   ],
   "source": [
    "key  = min(dict, key=lambda vertex1=dict.get: pathDist(dict[vertex1], vertex))\n",
    "#info = dict.items()\n",
    "# key  = min(info, key=pathDist(info, vertex))\n",
    "print(key)"
   ]
  },
  {
   "cell_type": "code",
   "execution_count": 155,
   "metadata": {
    "collapsed": false
   },
   "outputs": [
    {
     "name": "stdout",
     "output_type": "stream",
     "text": [
      "(1, 3) (20, 15)\n",
      "505\n"
     ]
    }
   ],
   "source": [
    "gg = dict\n",
    "lol = pathDist(dict.get(1), vertex)\n",
    "print(lol)"
   ]
  },
  {
   "cell_type": "code",
   "execution_count": 132,
   "metadata": {
    "collapsed": false
   },
   "outputs": [
    {
     "name": "stdout",
     "output_type": "stream",
     "text": [
      "1\n"
     ]
    }
   ],
   "source": [
    "g = (1, 3)\n",
    "h = (1, 4)\n",
    "wow = pathDist(g, h)\n",
    "print(wow)"
   ]
  },
  {
   "cell_type": "code",
   "execution_count": null,
   "metadata": {
    "collapsed": false
   },
   "outputs": [],
   "source": []
  },
  {
   "cell_type": "code",
   "execution_count": null,
   "metadata": {
    "collapsed": true
   },
   "outputs": [],
   "source": []
  }
 ],
 "metadata": {
  "kernelspec": {
   "display_name": "Python 3",
   "language": "python",
   "name": "python3"
  },
  "language_info": {
   "codemirror_mode": {
    "name": "ipython",
    "version": 3
   },
   "file_extension": ".py",
   "mimetype": "text/x-python",
   "name": "python",
   "nbconvert_exporter": "python",
   "pygments_lexer": "ipython3",
   "version": "3.5.2"
  }
 },
 "nbformat": 4,
 "nbformat_minor": 2
}
